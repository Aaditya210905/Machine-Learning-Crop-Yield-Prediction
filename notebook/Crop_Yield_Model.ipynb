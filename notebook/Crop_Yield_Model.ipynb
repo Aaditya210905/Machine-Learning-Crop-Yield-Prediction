{
  "cells": [
    {
      "cell_type": "code",
      "execution_count": 5,
      "id": "d714da70",
      "metadata": {
        "id": "d714da70"
      },
      "outputs": [],
      "source": [
        "import pandas as pd\n",
        "import numpy as np\n",
        "import seaborn as sns\n",
        "import matplotlib.pyplot as plt\n",
        "import math"
      ]
    },
    {
      "cell_type": "code",
      "execution_count": null,
      "id": "e2ca5afa",
      "metadata": {
        "colab": {
          "base_uri": "https://localhost:8080/",
          "height": 278
        },
        "id": "e2ca5afa",
        "outputId": "ef434231-75a6-4575-c4ad-97e2d0f851f0"
      },
      "outputs": [
        {
          "data": {
            "text/html": [
              "<div>\n",
              "<style scoped>\n",
              "    .dataframe tbody tr th:only-of-type {\n",
              "        vertical-align: middle;\n",
              "    }\n",
              "\n",
              "    .dataframe tbody tr th {\n",
              "        vertical-align: top;\n",
              "    }\n",
              "\n",
              "    .dataframe thead th {\n",
              "        text-align: right;\n",
              "    }\n",
              "</style>\n",
              "<table border=\"1\" class=\"dataframe\">\n",
              "  <thead>\n",
              "    <tr style=\"text-align: right;\">\n",
              "      <th></th>\n",
              "      <th>Crop</th>\n",
              "      <th>Crop_Year</th>\n",
              "      <th>Season</th>\n",
              "      <th>State</th>\n",
              "      <th>Area</th>\n",
              "      <th>Production</th>\n",
              "      <th>Annual_Rainfall</th>\n",
              "      <th>Fertilizer</th>\n",
              "      <th>Pesticide</th>\n",
              "      <th>Yield</th>\n",
              "    </tr>\n",
              "  </thead>\n",
              "  <tbody>\n",
              "    <tr>\n",
              "      <th>0</th>\n",
              "      <td>Arecanut</td>\n",
              "      <td>1997</td>\n",
              "      <td>Whole Year</td>\n",
              "      <td>Assam</td>\n",
              "      <td>73814.0</td>\n",
              "      <td>56708</td>\n",
              "      <td>2051.4</td>\n",
              "      <td>7024878.38</td>\n",
              "      <td>22882.34</td>\n",
              "      <td>0.796087</td>\n",
              "    </tr>\n",
              "    <tr>\n",
              "      <th>1</th>\n",
              "      <td>Arhar/Tur</td>\n",
              "      <td>1997</td>\n",
              "      <td>Kharif</td>\n",
              "      <td>Assam</td>\n",
              "      <td>6637.0</td>\n",
              "      <td>4685</td>\n",
              "      <td>2051.4</td>\n",
              "      <td>631643.29</td>\n",
              "      <td>2057.47</td>\n",
              "      <td>0.710435</td>\n",
              "    </tr>\n",
              "    <tr>\n",
              "      <th>2</th>\n",
              "      <td>Castor seed</td>\n",
              "      <td>1997</td>\n",
              "      <td>Kharif</td>\n",
              "      <td>Assam</td>\n",
              "      <td>796.0</td>\n",
              "      <td>22</td>\n",
              "      <td>2051.4</td>\n",
              "      <td>75755.32</td>\n",
              "      <td>246.76</td>\n",
              "      <td>0.238333</td>\n",
              "    </tr>\n",
              "    <tr>\n",
              "      <th>3</th>\n",
              "      <td>Coconut</td>\n",
              "      <td>1997</td>\n",
              "      <td>Whole Year</td>\n",
              "      <td>Assam</td>\n",
              "      <td>19656.0</td>\n",
              "      <td>126905000</td>\n",
              "      <td>2051.4</td>\n",
              "      <td>1870661.52</td>\n",
              "      <td>6093.36</td>\n",
              "      <td>5238.051739</td>\n",
              "    </tr>\n",
              "    <tr>\n",
              "      <th>4</th>\n",
              "      <td>Cotton(lint)</td>\n",
              "      <td>1997</td>\n",
              "      <td>Kharif</td>\n",
              "      <td>Assam</td>\n",
              "      <td>1739.0</td>\n",
              "      <td>794</td>\n",
              "      <td>2051.4</td>\n",
              "      <td>165500.63</td>\n",
              "      <td>539.09</td>\n",
              "      <td>0.420909</td>\n",
              "    </tr>\n",
              "  </tbody>\n",
              "</table>\n",
              "</div>"
            ],
            "text/plain": [
              "           Crop  Crop_Year       Season  State     Area  Production  \\\n",
              "0      Arecanut       1997  Whole Year   Assam  73814.0       56708   \n",
              "1     Arhar/Tur       1997  Kharif       Assam   6637.0        4685   \n",
              "2   Castor seed       1997  Kharif       Assam    796.0          22   \n",
              "3      Coconut        1997  Whole Year   Assam  19656.0   126905000   \n",
              "4  Cotton(lint)       1997  Kharif       Assam   1739.0         794   \n",
              "\n",
              "   Annual_Rainfall  Fertilizer  Pesticide        Yield  \n",
              "0           2051.4  7024878.38   22882.34     0.796087  \n",
              "1           2051.4   631643.29    2057.47     0.710435  \n",
              "2           2051.4    75755.32     246.76     0.238333  \n",
              "3           2051.4  1870661.52    6093.36  5238.051739  \n",
              "4           2051.4   165500.63     539.09     0.420909  "
            ]
          },
          "execution_count": 6,
          "metadata": {},
          "output_type": "execute_result"
        }
      ],
      "source": [
        "df=pd.read_csv('data/crop_yield.csv')\n",
        "df.head()"
      ]
    },
    {
      "cell_type": "code",
      "execution_count": 7,
      "id": "71ddc2b1",
      "metadata": {
        "colab": {
          "base_uri": "https://localhost:8080/"
        },
        "id": "71ddc2b1",
        "outputId": "e091cef6-8451-4470-8a2d-57cc7ae3e728"
      },
      "outputs": [
        {
          "name": "stdout",
          "output_type": "stream",
          "text": [
            "<class 'pandas.core.frame.DataFrame'>\n",
            "RangeIndex: 19689 entries, 0 to 19688\n",
            "Data columns (total 10 columns):\n",
            " #   Column           Non-Null Count  Dtype  \n",
            "---  ------           --------------  -----  \n",
            " 0   Crop             19689 non-null  object \n",
            " 1   Crop_Year        19689 non-null  int64  \n",
            " 2   Season           19689 non-null  object \n",
            " 3   State            19689 non-null  object \n",
            " 4   Area             19689 non-null  float64\n",
            " 5   Production       19689 non-null  int64  \n",
            " 6   Annual_Rainfall  19689 non-null  float64\n",
            " 7   Fertilizer       19689 non-null  float64\n",
            " 8   Pesticide        19689 non-null  float64\n",
            " 9   Yield            19689 non-null  float64\n",
            "dtypes: float64(5), int64(2), object(3)\n",
            "memory usage: 1.5+ MB\n"
          ]
        }
      ],
      "source": [
        "# Display DataFrame information\n",
        "df.info()"
      ]
    },
    {
      "cell_type": "code",
      "execution_count": 8,
      "id": "8b4decee",
      "metadata": {
        "colab": {
          "base_uri": "https://localhost:8080/",
          "height": 397
        },
        "id": "8b4decee",
        "outputId": "dadb2255-1ab1-4594-b467-7994c2e0b7fa"
      },
      "outputs": [
        {
          "data": {
            "text/plain": [
              "Crop               0\n",
              "Crop_Year          0\n",
              "Season             0\n",
              "State              0\n",
              "Area               0\n",
              "Production         0\n",
              "Annual_Rainfall    0\n",
              "Fertilizer         0\n",
              "Pesticide          0\n",
              "Yield              0\n",
              "dtype: int64"
            ]
          },
          "execution_count": 8,
          "metadata": {},
          "output_type": "execute_result"
        }
      ],
      "source": [
        "#show null values in each column\n",
        "df.isnull().sum()"
      ]
    },
    {
      "cell_type": "code",
      "execution_count": 9,
      "id": "3f48b40b",
      "metadata": {
        "id": "3f48b40b"
      },
      "outputs": [],
      "source": [
        "# Drop the year column\n",
        "df.drop(columns=['Crop_Year'],inplace=True)"
      ]
    },
    {
      "cell_type": "code",
      "execution_count": 10,
      "id": "2b189792",
      "metadata": {
        "id": "2b189792"
      },
      "outputs": [],
      "source": [
        "# Remove leading/trailing spaces in categorical columns\n",
        "df['Season'] = df['Season'].str.strip()\n",
        "df['State'] = df['State'].str.strip()\n",
        "df['Crop'] = df['Crop'].str.strip()"
      ]
    },
    {
      "cell_type": "code",
      "execution_count": 11,
      "id": "ea94d23c",
      "metadata": {
        "colab": {
          "base_uri": "https://localhost:8080/"
        },
        "id": "ea94d23c",
        "outputId": "9d4fa28c-b90c-4eb5-9126-49ae056d0e41"
      },
      "outputs": [
        {
          "name": "stdout",
          "output_type": "stream",
          "text": [
            "Crop\n",
            "Rice                     1197\n",
            "Maize                     975\n",
            "Moong(Green Gram)         740\n",
            "Urad                      733\n",
            "Groundnut                 725\n",
            "Sesamum                   685\n",
            "Potato                    628\n",
            "Sugarcane                 605\n",
            "Wheat                     545\n",
            "Rapeseed &Mustard         528\n",
            "Bajra                     524\n",
            "Jowar                     513\n",
            "Arhar/Tur                 508\n",
            "Ragi                      498\n",
            "Gram                      490\n",
            "Small millets             485\n",
            "Cotton(lint)              476\n",
            "Onion                     454\n",
            "Sunflower                 441\n",
            "Dry chillies              419\n",
            "Other Kharif pulses       382\n",
            "Horse-gram                371\n",
            "Peas & beans (Pulses)     369\n",
            "Tobacco                   364\n",
            "Other  Rabi pulses        355\n",
            "Soyabean                  349\n",
            "Turmeric                  337\n",
            "Masoor                    324\n",
            "Ginger                    323\n",
            "Linseed                   308\n",
            "Castor seed               300\n",
            "Barley                    297\n",
            "Sweet potato              273\n",
            "Garlic                    250\n",
            "Banana                    245\n",
            "Mesta                     210\n",
            "Tapioca                   201\n",
            "Coriander                 199\n",
            "Niger seed                192\n",
            "Jute                      181\n",
            "Coconut                   172\n",
            "Safflower                 169\n",
            "Arecanut                  162\n",
            "Sannhamp                  160\n",
            "Other Cereals             146\n",
            "Cashewnut                 134\n",
            "Cowpea(Lobia)             134\n",
            "other oilseeds            126\n",
            "Black pepper              126\n",
            "Moth                      110\n",
            "Khesari                    75\n",
            "Cardamom                   74\n",
            "Guar seed                  63\n",
            "Oilseeds total             29\n",
            "Other Summer Pulses        10\n",
            "Name: count, dtype: int64\n",
            "55\n",
            "Season\n",
            "Kharif        8232\n",
            "Rabi          5742\n",
            "Whole Year    3717\n",
            "Summer        1195\n",
            "Autumn         414\n",
            "Winter         389\n",
            "Name: count, dtype: int64\n",
            "6\n",
            "State\n",
            "Karnataka            1432\n",
            "Andhra Pradesh       1266\n",
            "West Bengal          1094\n",
            "Chhattisgarh          915\n",
            "Bihar                 896\n",
            "Madhya Pradesh        845\n",
            "Uttar Pradesh         825\n",
            "Tamil Nadu            822\n",
            "Gujarat               817\n",
            "Maharashtra           770\n",
            "Uttarakhand           764\n",
            "Odisha                760\n",
            "Assam                 731\n",
            "Nagaland              689\n",
            "Puducherry            670\n",
            "Meghalaya             649\n",
            "Jammu and Kashmir     631\n",
            "Haryana               631\n",
            "Himachal Pradesh      616\n",
            "Kerala                534\n",
            "Manipur               444\n",
            "Tripura               441\n",
            "Mizoram               416\n",
            "Punjab                397\n",
            "Telangana             397\n",
            "Arunachal Pradesh     292\n",
            "Jharkhand             270\n",
            "Goa                   246\n",
            "Sikkim                226\n",
            "Delhi                 203\n",
            "Name: count, dtype: int64\n",
            "30\n",
            "Area\n",
            "1.0        113\n",
            "3.0         75\n",
            "2.0         66\n",
            "4.0         49\n",
            "5.0         42\n",
            "          ... \n",
            "1977.0       1\n",
            "23569.0      1\n",
            "49126.0      1\n",
            "2855.0       1\n",
            "81562.0      1\n",
            "Name: count, Length: 13644, dtype: int64\n",
            "13644\n",
            "Production\n",
            "0         112\n",
            "1          79\n",
            "2          68\n",
            "3          67\n",
            "4          55\n",
            "         ... \n",
            "15322       1\n",
            "11237       1\n",
            "21685       1\n",
            "113342      1\n",
            "7452        1\n",
            "Name: count, Length: 14016, dtype: int64\n",
            "14016\n",
            "Annual_Rainfall\n",
            "1434.5875    360\n",
            "1317.2000     93\n",
            "687.6000      91\n",
            "1201.9000     83\n",
            "1207.0000     74\n",
            "            ... \n",
            "3674.7000      7\n",
            "1498.0000      5\n",
            "3252.4000      5\n",
            "1398.5000      5\n",
            "1356.2000      3\n",
            "Name: count, Length: 634, dtype: int64\n",
            "634\n",
            "Fertilizer\n",
            "1.508000e+02    11\n",
            "1.622000e+02    10\n",
            "1.717600e+02    10\n",
            "1.444900e+02     9\n",
            "3.435200e+02     9\n",
            "                ..\n",
            "1.665228e+07     1\n",
            "1.659119e+08     1\n",
            "1.500355e+06     1\n",
            "9.983333e+05     1\n",
            "2.980534e+06     1\n",
            "Name: count, Length: 18598, dtype: int64\n",
            "18598\n",
            "Pesticide\n",
            "0.99        19\n",
            "0.33        18\n",
            "0.35        18\n",
            "0.66        16\n",
            "0.48        14\n",
            "            ..\n",
            "134.23       1\n",
            "3122.01      1\n",
            "26256.38     1\n",
            "28861.00     1\n",
            "5956.96      1\n",
            "Name: count, Length: 17405, dtype: int64\n",
            "17405\n",
            "Yield\n",
            "1.000000    167\n",
            "0.000000    112\n",
            "0.500000     73\n",
            "2.000000     47\n",
            "0.750000     42\n",
            "           ... \n",
            "0.615652      1\n",
            "0.461364      1\n",
            "9.919565      1\n",
            "0.465455      1\n",
            "0.420909      1\n",
            "Name: count, Length: 13551, dtype: int64\n",
            "13551\n"
          ]
        }
      ],
      "source": [
        "#See unique values and their counts in each column\n",
        "for i in df.columns:\n",
        "    print(df[i].value_counts())\n",
        "    print(df[i].nunique())"
      ]
    },
    {
      "cell_type": "code",
      "execution_count": 12,
      "id": "61669083",
      "metadata": {
        "colab": {
          "base_uri": "https://localhost:8080/"
        },
        "id": "61669083",
        "outputId": "1ada9721-1154-4491-b295-5fabeed7a243"
      },
      "outputs": [
        {
          "name": "stdout",
          "output_type": "stream",
          "text": [
            "['Crop', 'Season', 'State']\n",
            "['Area', 'Production', 'Annual_Rainfall', 'Fertilizer', 'Pesticide', 'Yield']\n"
          ]
        }
      ],
      "source": [
        "cat_cols1=[]\n",
        "num_cols1=[]\n",
        "\n",
        "for i in df.columns:\n",
        "    if df[i].dtype=='object':\n",
        "        cat_cols1.append(i)\n",
        "    else:\n",
        "        num_cols1.append(i)\n",
        "\n",
        "print(cat_cols1)\n",
        "print(num_cols1)"
      ]
    },
    {
      "cell_type": "code",
      "execution_count": 13,
      "id": "43ba42d2",
      "metadata": {
        "id": "43ba42d2"
      },
      "outputs": [
        {
          "data": {
            "image/png": "[encoded data removed]",
            "text/plain": [
              "<Figure size 1500x1000 with 6 Axes>"
            ]
          },
          "metadata": {},
          "output_type": "display_data"
        }
      ],
      "source": [
        "n = len(num_cols1)   # total number of numeric columns\n",
        "rows = math.ceil(n / 3)      # rows needed for 3 per row\n",
        "\n",
        "fig,axes = plt.subplots(rows,3,figsize=(15, 5*rows))\n",
        "axes = axes.flatten()\n",
        "\n",
        "for i, col in enumerate(num_cols1):\n",
        "    sns.histplot(df[col], kde=True, ax=axes[i])\n",
        "    axes[i].set_title(col)\n",
        "\n",
        "for j in range(i+1, len(axes)):\n",
        "    fig.delaxes(axes[j])\n",
        "\n",
        "plt.tight_layout()\n",
        "plt.show()\n"
      ]
    },
    {
      "cell_type": "code",
      "execution_count": 14,
      "id": "1c07836a",
      "metadata": {
        "colab": {
          "base_uri": "https://localhost:8080/"
        },
        "id": "1c07836a",
        "outputId": "0823f7bc-6841-4aee-e2aa-3be4bf824d39"
      },
      "outputs": [
        {
          "name": "stdout",
          "output_type": "stream",
          "text": [
            "Area : 21.858217797355426\n",
            "Production : 19.299193411606723\n",
            "Annual_Rainfall : 2.131785011464436\n",
            "Fertilizer : 13.412598810025761\n",
            "Pesticide : 25.635746086843607\n",
            "Yield : 12.785264685628688\n"
          ]
        }
      ],
      "source": [
        "# Skewness of numerical columns\n",
        "for i in num_cols1:\n",
        "    print(f'{i} : {df[i].skew()}')"
      ]
    },
    {
      "cell_type": "code",
      "execution_count": 15,
      "id": "29625aba",
      "metadata": {
        "colab": {
          "base_uri": "https://localhost:8080/"
        },
        "id": "29625aba",
        "outputId": "0da16565-9e1c-4538-8745-50aa5a40b9c0"
      },
      "outputs": [
        {
          "name": "stdout",
          "output_type": "stream",
          "text": [
            "Area : 1202.6249678574002\n",
            "Production : 388.56723886008297\n",
            "Annual_Rainfall : 6.97498304618661\n",
            "Fertilizer : 408.4541019821852\n",
            "Pesticide : 1546.7276228094033\n",
            "Yield : 175.57732334193412\n"
          ]
        }
      ],
      "source": [
        "# Kurtosis of numerical columns\n",
        "for i in num_cols1:\n",
        "    print(f'{i} : {df[i].kurtosis()}')"
      ]
    },
    {
      "cell_type": "code",
      "execution_count": 16,
      "id": "c2b72676",
      "metadata": {
        "id": "c2b72676"
      },
      "outputs": [],
      "source": [
        "#Splitting the data into X and y\n",
        "X=df.drop(columns=['Yield'])\n",
        "y=df['Yield']"
      ]
    },
    {
      "cell_type": "code",
      "execution_count": 17,
      "id": "3efd7848",
      "metadata": {
        "id": "3efd7848"
      },
      "outputs": [],
      "source": [
        "# Splitting the data into training and testing sets\n",
        "from sklearn.model_selection import train_test_split\n",
        "X_train, X_test, y_train, y_test = train_test_split(X, y, test_size=0.2, random_state=42)"
      ]
    },
    {
      "cell_type": "code",
      "execution_count": 18,
      "id": "8a5e4eb7",
      "metadata": {
        "colab": {
          "base_uri": "https://localhost:8080/"
        },
        "id": "8a5e4eb7",
        "outputId": "ba874c7e-9fef-46ed-a3b2-e062905bdb1e"
      },
      "outputs": [
        {
          "name": "stdout",
          "output_type": "stream",
          "text": [
            "['Crop', 'Season', 'State']\n",
            "['Area', 'Production', 'Annual_Rainfall', 'Fertilizer', 'Pesticide']\n"
          ]
        }
      ],
      "source": [
        "cat_cols=[]\n",
        "num_cols=[]\n",
        "\n",
        "for i in X.columns:\n",
        "    if X[i].dtype=='object':\n",
        "        cat_cols.append(i)\n",
        "    else:\n",
        "        num_cols.append(i)\n",
        "\n",
        "print(cat_cols)\n",
        "print(num_cols)"
      ]
    },
    {
      "cell_type": "code",
      "execution_count": 19,
      "id": "ed5235a0",
      "metadata": {
        "id": "ed5235a0"
      },
      "outputs": [],
      "source": [
        "# Target Encoding for 'Crop' column\n",
        "import category_encoders as ce\n",
        "\n",
        "encoder = ce.TargetEncoder(cols=['Crop'])\n",
        "X_train['Crop'] = encoder.fit_transform(X_train['Crop'], y_train)\n",
        "X_test['Crop'] = encoder.transform(X_test['Crop'])"
      ]
    },
    {
      "cell_type": "code",
      "execution_count": 20,
      "id": "887159b5",
      "metadata": {
        "id": "887159b5"
      },
      "outputs": [],
      "source": [
        "# Power Transformation for numerical columns\n",
        "from sklearn.preprocessing import PowerTransformer\n",
        "\n",
        "pt = PowerTransformer(method='yeo-johnson')\n",
        "X_train[num_cols] = pt.fit_transform(X_train[num_cols])\n",
        "X_test[num_cols] = pt.transform(X_test[num_cols])\n",
        "\n",
        "pt_y = PowerTransformer(method='yeo-johnson')\n",
        "y_train = pt_y.fit_transform(y_train.values.reshape(-1, 1))\n",
        "y_test = pt_y.transform(y_test.values.reshape(-1, 1))\n"
      ]
    },
    {
      "cell_type": "code",
      "execution_count": 21,
      "id": "1b3a0747",
      "metadata": {
        "colab": {
          "base_uri": "https://localhost:8080/",
          "height": 530
        },
        "id": "1b3a0747",
        "outputId": "c9448a90-6972-46ab-9718-790bd2c6705b"
      },
      "outputs": [
        {
          "data": {
            "image/png": "[encoded data removed]",
            "text/plain": [
              "<Figure size 1500x1000 with 5 Axes>"
            ]
          },
          "metadata": {},
          "output_type": "display_data"
        }
      ],
      "source": [
        "n = len(num_cols)   # total number of numeric columns\n",
        "rows = math.ceil(n / 3)      # rows needed for 3 per row\n",
        "\n",
        "fig,axes = plt.subplots(rows,3,figsize=(15, 5*rows))\n",
        "axes = axes.flatten()\n",
        "\n",
        "for i, col in enumerate(num_cols):\n",
        "    sns.histplot(X_train[col], kde=True, ax=axes[i])\n",
        "    axes[i].set_title(col)\n",
        "\n",
        "for j in range(i+1, len(axes)):\n",
        "    fig.delaxes(axes[j])\n",
        "\n",
        "plt.tight_layout()\n",
        "plt.show()\n"
      ]
    },
    {
      "cell_type": "code",
      "execution_count": 22,
      "id": "e086346a",
      "metadata": {
        "colab": {
          "base_uri": "https://localhost:8080/"
        },
        "id": "e086346a",
        "outputId": "995d9223-2f85-44f1-88d6-42c649062109"
      },
      "outputs": [
        {
          "name": "stdout",
          "output_type": "stream",
          "text": [
            "Area : -0.012218648824013125\n",
            "Production : -2.8445424533709317e-05\n",
            "Annual_Rainfall : -0.004509391318505184\n",
            "Fertilizer : -0.010402912196556606\n",
            "Pesticide : -0.012237710807002242\n"
          ]
        }
      ],
      "source": [
        "for i in num_cols:\n",
        "    print(f'{i} : {X_train[i].skew()}')"
      ]
    },
    {
      "cell_type": "code",
      "execution_count": 23,
      "id": "bf62f78f",
      "metadata": {
        "colab": {
          "base_uri": "https://localhost:8080/"
        },
        "id": "bf62f78f",
        "outputId": "8707c106-2e3a-44a6-aa5d-a19328d3c5a6"
      },
      "outputs": [
        {
          "name": "stdout",
          "output_type": "stream",
          "text": [
            "Area : -0.28965749954304254\n",
            "Production : 0.3926334618005969\n",
            "Annual_Rainfall : 0.6036758390711232\n",
            "Fertilizer : -0.22899868652721045\n",
            "Pesticide : -0.36244815074044245\n"
          ]
        }
      ],
      "source": [
        "for i in num_cols:\n",
        "    print(f'{i} : {X_train[i].kurtosis()}')"
      ]
    },
    {
      "cell_type": "code",
      "execution_count": 24,
      "id": "fef122a5",
      "metadata": {
        "colab": {
          "base_uri": "https://localhost:8080/",
          "height": 513
        },
        "id": "fef122a5",
        "outputId": "0b18affc-aa65-4cea-c6af-b335f0baa310"
      },
      "outputs": [
        {
          "data": {
            "text/html": [
              "<div>\n",
              "<style scoped>\n",
              "    .dataframe tbody tr th:only-of-type {\n",
              "        vertical-align: middle;\n",
              "    }\n",
              "\n",
              "    .dataframe tbody tr th {\n",
              "        vertical-align: top;\n",
              "    }\n",
              "\n",
              "    .dataframe thead th {\n",
              "        text-align: right;\n",
              "    }\n",
              "</style>\n",
              "<table border=\"1\" class=\"dataframe\">\n",
              "  <thead>\n",
              "    <tr style=\"text-align: right;\">\n",
              "      <th></th>\n",
              "      <th>Crop</th>\n",
              "      <th>Season</th>\n",
              "      <th>State</th>\n",
              "      <th>Area</th>\n",
              "      <th>Production</th>\n",
              "      <th>Annual_Rainfall</th>\n",
              "      <th>Fertilizer</th>\n",
              "      <th>Pesticide</th>\n",
              "    </tr>\n",
              "  </thead>\n",
              "  <tbody>\n",
              "    <tr>\n",
              "      <th>19466</th>\n",
              "      <td>1.364905</td>\n",
              "      <td>Kharif</td>\n",
              "      <td>Goa</td>\n",
              "      <td>-1.075788</td>\n",
              "      <td>-0.715962</td>\n",
              "      <td>1.907533</td>\n",
              "      <td>-1.006257</td>\n",
              "      <td>-1.017955</td>\n",
              "    </tr>\n",
              "    <tr>\n",
              "      <th>17802</th>\n",
              "      <td>1.569136</td>\n",
              "      <td>Kharif</td>\n",
              "      <td>Delhi</td>\n",
              "      <td>-1.522011</td>\n",
              "      <td>-1.187932</td>\n",
              "      <td>-1.238092</td>\n",
              "      <td>-1.515720</td>\n",
              "      <td>-1.679552</td>\n",
              "    </tr>\n",
              "    <tr>\n",
              "      <th>7014</th>\n",
              "      <td>0.525413</td>\n",
              "      <td>Whole Year</td>\n",
              "      <td>Uttar Pradesh</td>\n",
              "      <td>-1.239694</td>\n",
              "      <td>-1.428779</td>\n",
              "      <td>-0.699476</td>\n",
              "      <td>-1.300878</td>\n",
              "      <td>-1.248039</td>\n",
              "    </tr>\n",
              "    <tr>\n",
              "      <th>14078</th>\n",
              "      <td>1.569136</td>\n",
              "      <td>Rabi</td>\n",
              "      <td>Uttarakhand</td>\n",
              "      <td>0.247029</td>\n",
              "      <td>0.197346</td>\n",
              "      <td>0.054274</td>\n",
              "      <td>0.286890</td>\n",
              "      <td>0.336490</td>\n",
              "    </tr>\n",
              "    <tr>\n",
              "      <th>8121</th>\n",
              "      <td>1.789119</td>\n",
              "      <td>Kharif</td>\n",
              "      <td>Madhya Pradesh</td>\n",
              "      <td>1.485555</td>\n",
              "      <td>0.978650</td>\n",
              "      <td>-0.898001</td>\n",
              "      <td>1.350606</td>\n",
              "      <td>1.458014</td>\n",
              "    </tr>\n",
              "    <tr>\n",
              "      <th>...</th>\n",
              "      <td>...</td>\n",
              "      <td>...</td>\n",
              "      <td>...</td>\n",
              "      <td>...</td>\n",
              "      <td>...</td>\n",
              "      <td>...</td>\n",
              "      <td>...</td>\n",
              "      <td>...</td>\n",
              "    </tr>\n",
              "    <tr>\n",
              "      <th>11284</th>\n",
              "      <td>2.224730</td>\n",
              "      <td>Summer</td>\n",
              "      <td>Uttar Pradesh</td>\n",
              "      <td>0.303600</td>\n",
              "      <td>0.457541</td>\n",
              "      <td>-1.535909</td>\n",
              "      <td>0.355253</td>\n",
              "      <td>0.158487</td>\n",
              "    </tr>\n",
              "    <tr>\n",
              "      <th>11964</th>\n",
              "      <td>3.677745</td>\n",
              "      <td>Rabi</td>\n",
              "      <td>West Bengal</td>\n",
              "      <td>0.176462</td>\n",
              "      <td>0.547986</td>\n",
              "      <td>-0.266352</td>\n",
              "      <td>0.249650</td>\n",
              "      <td>0.153176</td>\n",
              "    </tr>\n",
              "    <tr>\n",
              "      <th>5390</th>\n",
              "      <td>13.574094</td>\n",
              "      <td>Rabi</td>\n",
              "      <td>Tamil Nadu</td>\n",
              "      <td>0.161705</td>\n",
              "      <td>0.719556</td>\n",
              "      <td>-0.509279</td>\n",
              "      <td>0.215802</td>\n",
              "      <td>0.300358</td>\n",
              "    </tr>\n",
              "    <tr>\n",
              "      <th>860</th>\n",
              "      <td>0.695739</td>\n",
              "      <td>Kharif</td>\n",
              "      <td>Karnataka</td>\n",
              "      <td>0.259329</td>\n",
              "      <td>0.074258</td>\n",
              "      <td>-0.444156</td>\n",
              "      <td>0.161187</td>\n",
              "      <td>0.264169</td>\n",
              "    </tr>\n",
              "    <tr>\n",
              "      <th>15795</th>\n",
              "      <td>0.645434</td>\n",
              "      <td>Kharif</td>\n",
              "      <td>Punjab</td>\n",
              "      <td>-0.448179</td>\n",
              "      <td>-0.752344</td>\n",
              "      <td>-1.872718</td>\n",
              "      <td>-0.397292</td>\n",
              "      <td>-0.323314</td>\n",
              "    </tr>\n",
              "  </tbody>\n",
              "</table>\n",
              "<p>15751 rows × 8 columns</p>\n",
              "</div>"
            ],
            "text/plain": [
              "            Crop      Season           State      Area  Production  \\\n",
              "19466   1.364905      Kharif             Goa -1.075788   -0.715962   \n",
              "17802   1.569136      Kharif           Delhi -1.522011   -1.187932   \n",
              "7014    0.525413  Whole Year   Uttar Pradesh -1.239694   -1.428779   \n",
              "14078   1.569136        Rabi     Uttarakhand  0.247029    0.197346   \n",
              "8121    1.789119      Kharif  Madhya Pradesh  1.485555    0.978650   \n",
              "...          ...         ...             ...       ...         ...   \n",
              "11284   2.224730      Summer   Uttar Pradesh  0.303600    0.457541   \n",
              "11964   3.677745        Rabi     West Bengal  0.176462    0.547986   \n",
              "5390   13.574094        Rabi      Tamil Nadu  0.161705    0.719556   \n",
              "860     0.695739      Kharif       Karnataka  0.259329    0.074258   \n",
              "15795   0.645434      Kharif          Punjab -0.448179   -0.752344   \n",
              "\n",
              "       Annual_Rainfall  Fertilizer  Pesticide  \n",
              "19466         1.907533   -1.006257  -1.017955  \n",
              "17802        -1.238092   -1.515720  -1.679552  \n",
              "7014         -0.699476   -1.300878  -1.248039  \n",
              "14078         0.054274    0.286890   0.336490  \n",
              "8121         -0.898001    1.350606   1.458014  \n",
              "...                ...         ...        ...  \n",
              "11284        -1.535909    0.355253   0.158487  \n",
              "11964        -0.266352    0.249650   0.153176  \n",
              "5390         -0.509279    0.215802   0.300358  \n",
              "860          -0.444156    0.161187   0.264169  \n",
              "15795        -1.872718   -0.397292  -0.323314  \n",
              "\n",
              "[15751 rows x 8 columns]"
            ]
          },
          "execution_count": 24,
          "metadata": {},
          "output_type": "execute_result"
        }
      ],
      "source": [
        "X_train"
      ]
    },
    {
      "cell_type": "code",
      "execution_count": 25,
      "id": "4543e5be",
      "metadata": {
        "colab": {
          "base_uri": "https://localhost:8080/",
          "height": 461
        },
        "id": "4543e5be",
        "outputId": "e3f5e333-83b6-44cd-ed5a-816ec26d5488"
      },
      "outputs": [
        {
          "data": {
            "text/html": [
              "<div>\n",
              "<style scoped>\n",
              "    .dataframe tbody tr th:only-of-type {\n",
              "        vertical-align: middle;\n",
              "    }\n",
              "\n",
              "    .dataframe tbody tr th {\n",
              "        vertical-align: top;\n",
              "    }\n",
              "\n",
              "    .dataframe thead th {\n",
              "        text-align: right;\n",
              "    }\n",
              "</style>\n",
              "<table border=\"1\" class=\"dataframe\">\n",
              "  <thead>\n",
              "    <tr style=\"text-align: right;\">\n",
              "      <th></th>\n",
              "      <th>Crop</th>\n",
              "      <th>Area</th>\n",
              "      <th>Production</th>\n",
              "      <th>Annual_Rainfall</th>\n",
              "      <th>Fertilizer</th>\n",
              "      <th>Pesticide</th>\n",
              "      <th>Season_Autumn</th>\n",
              "      <th>Season_Kharif</th>\n",
              "      <th>Season_Rabi</th>\n",
              "      <th>Season_Summer</th>\n",
              "      <th>...</th>\n",
              "      <th>State_Odisha</th>\n",
              "      <th>State_Puducherry</th>\n",
              "      <th>State_Punjab</th>\n",
              "      <th>State_Sikkim</th>\n",
              "      <th>State_Tamil Nadu</th>\n",
              "      <th>State_Telangana</th>\n",
              "      <th>State_Tripura</th>\n",
              "      <th>State_Uttar Pradesh</th>\n",
              "      <th>State_Uttarakhand</th>\n",
              "      <th>State_West Bengal</th>\n",
              "    </tr>\n",
              "  </thead>\n",
              "  <tbody>\n",
              "    <tr>\n",
              "      <th>0</th>\n",
              "      <td>1.364905</td>\n",
              "      <td>-1.075788</td>\n",
              "      <td>-0.715962</td>\n",
              "      <td>1.907533</td>\n",
              "      <td>-1.006257</td>\n",
              "      <td>-1.017955</td>\n",
              "      <td>0.0</td>\n",
              "      <td>1.0</td>\n",
              "      <td>0.0</td>\n",
              "      <td>0.0</td>\n",
              "      <td>...</td>\n",
              "      <td>0.0</td>\n",
              "      <td>0.0</td>\n",
              "      <td>0.0</td>\n",
              "      <td>0.0</td>\n",
              "      <td>0.0</td>\n",
              "      <td>0.0</td>\n",
              "      <td>0.0</td>\n",
              "      <td>0.0</td>\n",
              "      <td>0.0</td>\n",
              "      <td>0.0</td>\n",
              "    </tr>\n",
              "    <tr>\n",
              "      <th>1</th>\n",
              "      <td>1.569136</td>\n",
              "      <td>-1.522011</td>\n",
              "      <td>-1.187932</td>\n",
              "      <td>-1.238092</td>\n",
              "      <td>-1.515720</td>\n",
              "      <td>-1.679552</td>\n",
              "      <td>0.0</td>\n",
              "      <td>1.0</td>\n",
              "      <td>0.0</td>\n",
              "      <td>0.0</td>\n",
              "      <td>...</td>\n",
              "      <td>0.0</td>\n",
              "      <td>0.0</td>\n",
              "      <td>0.0</td>\n",
              "      <td>0.0</td>\n",
              "      <td>0.0</td>\n",
              "      <td>0.0</td>\n",
              "      <td>0.0</td>\n",
              "      <td>0.0</td>\n",
              "      <td>0.0</td>\n",
              "      <td>0.0</td>\n",
              "    </tr>\n",
              "    <tr>\n",
              "      <th>2</th>\n",
              "      <td>0.525413</td>\n",
              "      <td>-1.239694</td>\n",
              "      <td>-1.428779</td>\n",
              "      <td>-0.699476</td>\n",
              "      <td>-1.300878</td>\n",
              "      <td>-1.248039</td>\n",
              "      <td>0.0</td>\n",
              "      <td>0.0</td>\n",
              "      <td>0.0</td>\n",
              "      <td>0.0</td>\n",
              "      <td>...</td>\n",
              "      <td>0.0</td>\n",
              "      <td>0.0</td>\n",
              "      <td>0.0</td>\n",
              "      <td>0.0</td>\n",
              "      <td>0.0</td>\n",
              "      <td>0.0</td>\n",
              "      <td>0.0</td>\n",
              "      <td>1.0</td>\n",
              "      <td>0.0</td>\n",
              "      <td>0.0</td>\n",
              "    </tr>\n",
              "    <tr>\n",
              "      <th>3</th>\n",
              "      <td>1.569136</td>\n",
              "      <td>0.247029</td>\n",
              "      <td>0.197346</td>\n",
              "      <td>0.054274</td>\n",
              "      <td>0.286890</td>\n",
              "      <td>0.336490</td>\n",
              "      <td>0.0</td>\n",
              "      <td>0.0</td>\n",
              "      <td>1.0</td>\n",
              "      <td>0.0</td>\n",
              "      <td>...</td>\n",
              "      <td>0.0</td>\n",
              "      <td>0.0</td>\n",
              "      <td>0.0</td>\n",
              "      <td>0.0</td>\n",
              "      <td>0.0</td>\n",
              "      <td>0.0</td>\n",
              "      <td>0.0</td>\n",
              "      <td>0.0</td>\n",
              "      <td>1.0</td>\n",
              "      <td>0.0</td>\n",
              "    </tr>\n",
              "    <tr>\n",
              "      <th>4</th>\n",
              "      <td>1.789119</td>\n",
              "      <td>1.485555</td>\n",
              "      <td>0.978650</td>\n",
              "      <td>-0.898001</td>\n",
              "      <td>1.350606</td>\n",
              "      <td>1.458014</td>\n",
              "      <td>0.0</td>\n",
              "      <td>1.0</td>\n",
              "      <td>0.0</td>\n",
              "      <td>0.0</td>\n",
              "      <td>...</td>\n",
              "      <td>0.0</td>\n",
              "      <td>0.0</td>\n",
              "      <td>0.0</td>\n",
              "      <td>0.0</td>\n",
              "      <td>0.0</td>\n",
              "      <td>0.0</td>\n",
              "      <td>0.0</td>\n",
              "      <td>0.0</td>\n",
              "      <td>0.0</td>\n",
              "      <td>0.0</td>\n",
              "    </tr>\n",
              "    <tr>\n",
              "      <th>...</th>\n",
              "      <td>...</td>\n",
              "      <td>...</td>\n",
              "      <td>...</td>\n",
              "      <td>...</td>\n",
              "      <td>...</td>\n",
              "      <td>...</td>\n",
              "      <td>...</td>\n",
              "      <td>...</td>\n",
              "      <td>...</td>\n",
              "      <td>...</td>\n",
              "      <td>...</td>\n",
              "      <td>...</td>\n",
              "      <td>...</td>\n",
              "      <td>...</td>\n",
              "      <td>...</td>\n",
              "      <td>...</td>\n",
              "      <td>...</td>\n",
              "      <td>...</td>\n",
              "      <td>...</td>\n",
              "      <td>...</td>\n",
              "      <td>...</td>\n",
              "    </tr>\n",
              "    <tr>\n",
              "      <th>15746</th>\n",
              "      <td>2.224730</td>\n",
              "      <td>0.303600</td>\n",
              "      <td>0.457541</td>\n",
              "      <td>-1.535909</td>\n",
              "      <td>0.355253</td>\n",
              "      <td>0.158487</td>\n",
              "      <td>0.0</td>\n",
              "      <td>0.0</td>\n",
              "      <td>0.0</td>\n",
              "      <td>1.0</td>\n",
              "      <td>...</td>\n",
              "      <td>0.0</td>\n",
              "      <td>0.0</td>\n",
              "      <td>0.0</td>\n",
              "      <td>0.0</td>\n",
              "      <td>0.0</td>\n",
              "      <td>0.0</td>\n",
              "      <td>0.0</td>\n",
              "      <td>1.0</td>\n",
              "      <td>0.0</td>\n",
              "      <td>0.0</td>\n",
              "    </tr>\n",
              "    <tr>\n",
              "      <th>15747</th>\n",
              "      <td>3.677745</td>\n",
              "      <td>0.176462</td>\n",
              "      <td>0.547986</td>\n",
              "      <td>-0.266352</td>\n",
              "      <td>0.249650</td>\n",
              "      <td>0.153176</td>\n",
              "      <td>0.0</td>\n",
              "      <td>0.0</td>\n",
              "      <td>1.0</td>\n",
              "      <td>0.0</td>\n",
              "      <td>...</td>\n",
              "      <td>0.0</td>\n",
              "      <td>0.0</td>\n",
              "      <td>0.0</td>\n",
              "      <td>0.0</td>\n",
              "      <td>0.0</td>\n",
              "      <td>0.0</td>\n",
              "      <td>0.0</td>\n",
              "      <td>0.0</td>\n",
              "      <td>0.0</td>\n",
              "      <td>1.0</td>\n",
              "    </tr>\n",
              "    <tr>\n",
              "      <th>15748</th>\n",
              "      <td>13.574094</td>\n",
              "      <td>0.161705</td>\n",
              "      <td>0.719556</td>\n",
              "      <td>-0.509279</td>\n",
              "      <td>0.215802</td>\n",
              "      <td>0.300358</td>\n",
              "      <td>0.0</td>\n",
              "      <td>0.0</td>\n",
              "      <td>1.0</td>\n",
              "      <td>0.0</td>\n",
              "      <td>...</td>\n",
              "      <td>0.0</td>\n",
              "      <td>0.0</td>\n",
              "      <td>0.0</td>\n",
              "      <td>0.0</td>\n",
              "      <td>1.0</td>\n",
              "      <td>0.0</td>\n",
              "      <td>0.0</td>\n",
              "      <td>0.0</td>\n",
              "      <td>0.0</td>\n",
              "      <td>0.0</td>\n",
              "    </tr>\n",
              "    <tr>\n",
              "      <th>15749</th>\n",
              "      <td>0.695739</td>\n",
              "      <td>0.259329</td>\n",
              "      <td>0.074258</td>\n",
              "      <td>-0.444156</td>\n",
              "      <td>0.161187</td>\n",
              "      <td>0.264169</td>\n",
              "      <td>0.0</td>\n",
              "      <td>1.0</td>\n",
              "      <td>0.0</td>\n",
              "      <td>0.0</td>\n",
              "      <td>...</td>\n",
              "      <td>0.0</td>\n",
              "      <td>0.0</td>\n",
              "      <td>0.0</td>\n",
              "      <td>0.0</td>\n",
              "      <td>0.0</td>\n",
              "      <td>0.0</td>\n",
              "      <td>0.0</td>\n",
              "      <td>0.0</td>\n",
              "      <td>0.0</td>\n",
              "      <td>0.0</td>\n",
              "    </tr>\n",
              "    <tr>\n",
              "      <th>15750</th>\n",
              "      <td>0.645434</td>\n",
              "      <td>-0.448179</td>\n",
              "      <td>-0.752344</td>\n",
              "      <td>-1.872718</td>\n",
              "      <td>-0.397292</td>\n",
              "      <td>-0.323314</td>\n",
              "      <td>0.0</td>\n",
              "      <td>1.0</td>\n",
              "      <td>0.0</td>\n",
              "      <td>0.0</td>\n",
              "      <td>...</td>\n",
              "      <td>0.0</td>\n",
              "      <td>0.0</td>\n",
              "      <td>1.0</td>\n",
              "      <td>0.0</td>\n",
              "      <td>0.0</td>\n",
              "      <td>0.0</td>\n",
              "      <td>0.0</td>\n",
              "      <td>0.0</td>\n",
              "      <td>0.0</td>\n",
              "      <td>0.0</td>\n",
              "    </tr>\n",
              "  </tbody>\n",
              "</table>\n",
              "<p>15751 rows × 42 columns</p>\n",
              "</div>"
            ],
            "text/plain": [
              "            Crop      Area  Production  Annual_Rainfall  Fertilizer  \\\n",
              "0       1.364905 -1.075788   -0.715962         1.907533   -1.006257   \n",
              "1       1.569136 -1.522011   -1.187932        -1.238092   -1.515720   \n",
              "2       0.525413 -1.239694   -1.428779        -0.699476   -1.300878   \n",
              "3       1.569136  0.247029    0.197346         0.054274    0.286890   \n",
              "4       1.789119  1.485555    0.978650        -0.898001    1.350606   \n",
              "...          ...       ...         ...              ...         ...   \n",
              "15746   2.224730  0.303600    0.457541        -1.535909    0.355253   \n",
              "15747   3.677745  0.176462    0.547986        -0.266352    0.249650   \n",
              "15748  13.574094  0.161705    0.719556        -0.509279    0.215802   \n",
              "15749   0.695739  0.259329    0.074258        -0.444156    0.161187   \n",
              "15750   0.645434 -0.448179   -0.752344        -1.872718   -0.397292   \n",
              "\n",
              "       Pesticide  Season_Autumn  Season_Kharif  Season_Rabi  Season_Summer  \\\n",
              "0      -1.017955            0.0            1.0          0.0            0.0   \n",
              "1      -1.679552            0.0            1.0          0.0            0.0   \n",
              "2      -1.248039            0.0            0.0          0.0            0.0   \n",
              "3       0.336490            0.0            0.0          1.0            0.0   \n",
              "4       1.458014            0.0            1.0          0.0            0.0   \n",
              "...          ...            ...            ...          ...            ...   \n",
              "15746   0.158487            0.0            0.0          0.0            1.0   \n",
              "15747   0.153176            0.0            0.0          1.0            0.0   \n",
              "15748   0.300358            0.0            0.0          1.0            0.0   \n",
              "15749   0.264169            0.0            1.0          0.0            0.0   \n",
              "15750  -0.323314            0.0            1.0          0.0            0.0   \n",
              "\n",
              "       ...  State_Odisha  State_Puducherry  State_Punjab  State_Sikkim  \\\n",
              "0      ...           0.0               0.0           0.0           0.0   \n",
              "1      ...           0.0               0.0           0.0           0.0   \n",
              "2      ...           0.0               0.0           0.0           0.0   \n",
              "3      ...           0.0               0.0           0.0           0.0   \n",
              "4      ...           0.0               0.0           0.0           0.0   \n",
              "...    ...           ...               ...           ...           ...   \n",
              "15746  ...           0.0               0.0           0.0           0.0   \n",
              "15747  ...           0.0               0.0           0.0           0.0   \n",
              "15748  ...           0.0               0.0           0.0           0.0   \n",
              "15749  ...           0.0               0.0           0.0           0.0   \n",
              "15750  ...           0.0               0.0           1.0           0.0   \n",
              "\n",
              "       State_Tamil Nadu  State_Telangana  State_Tripura  State_Uttar Pradesh  \\\n",
              "0                   0.0              0.0            0.0                  0.0   \n",
              "1                   0.0              0.0            0.0                  0.0   \n",
              "2                   0.0              0.0            0.0                  1.0   \n",
              "3                   0.0              0.0            0.0                  0.0   \n",
              "4                   0.0              0.0            0.0                  0.0   \n",
              "...                 ...              ...            ...                  ...   \n",
              "15746               0.0              0.0            0.0                  1.0   \n",
              "15747               0.0              0.0            0.0                  0.0   \n",
              "15748               1.0              0.0            0.0                  0.0   \n",
              "15749               0.0              0.0            0.0                  0.0   \n",
              "15750               0.0              0.0            0.0                  0.0   \n",
              "\n",
              "       State_Uttarakhand  State_West Bengal  \n",
              "0                    0.0                0.0  \n",
              "1                    0.0                0.0  \n",
              "2                    0.0                0.0  \n",
              "3                    1.0                0.0  \n",
              "4                    0.0                0.0  \n",
              "...                  ...                ...  \n",
              "15746                0.0                0.0  \n",
              "15747                0.0                1.0  \n",
              "15748                0.0                0.0  \n",
              "15749                0.0                0.0  \n",
              "15750                0.0                0.0  \n",
              "\n",
              "[15751 rows x 42 columns]"
            ]
          },
          "execution_count": 25,
          "metadata": {},
          "output_type": "execute_result"
        }
      ],
      "source": [
        "#one-hot encoding for 'Season' and 'State' columns\n",
        "from sklearn.preprocessing import OneHotEncoder\n",
        "ohe = OneHotEncoder(sparse_output=False)\n",
        "\n",
        "X_ohe = ohe.fit(X_train[['Season','State']])\n",
        "X_ohe = ohe.transform(X_train[['Season','State']])\n",
        "X_ohe_test = ohe.transform(X_test[['Season','State']])\n",
        "ohe.get_feature_names_out(['Season','State'])\n",
        "\n",
        "X_ohe = pd.DataFrame(X_ohe, columns=ohe.get_feature_names_out(['Season','State']))\n",
        "X_ohe_test = pd.DataFrame(X_ohe_test, columns=ohe.get_feature_names_out(['Season','State']))\n",
        "\n",
        "X_train.reset_index(drop=True, inplace=True)\n",
        "X_test.reset_index(drop=True, inplace=True)\n",
        "\n",
        "X_train = pd.concat([X_train, X_ohe], axis=1)\n",
        "X_test = pd.concat([X_test, X_ohe_test], axis=1)\n",
        "\n",
        "X_train.drop(columns=['Season','State'], inplace=True)\n",
        "X_test.drop(columns=['Season','State'], inplace=True)\n",
        "\n",
        "X_train"
      ]
    },
    {
      "cell_type": "code",
      "execution_count": 26,
      "id": "a90cea88",
      "metadata": {
        "colab": {
          "base_uri": "https://localhost:8080/"
        },
        "id": "a90cea88",
        "outputId": "c0074965-c26f-4c07-a2ce-19e8a5f57c94"
      },
      "outputs": [
        {
          "data": {
            "text/plain": [
              "Index(['Crop', 'Area', 'Production', 'Annual_Rainfall', 'Fertilizer',\n",
              "       'Pesticide', 'Season_Autumn', 'Season_Kharif', 'Season_Rabi',\n",
              "       'Season_Summer', 'Season_Whole Year', 'Season_Winter',\n",
              "       'State_Andhra Pradesh', 'State_Arunachal Pradesh', 'State_Assam',\n",
              "       'State_Bihar', 'State_Chhattisgarh', 'State_Delhi', 'State_Goa',\n",
              "       'State_Gujarat', 'State_Haryana', 'State_Himachal Pradesh',\n",
              "       'State_Jammu and Kashmir', 'State_Jharkhand', 'State_Karnataka',\n",
              "       'State_Kerala', 'State_Madhya Pradesh', 'State_Maharashtra',\n",
              "       'State_Manipur', 'State_Meghalaya', 'State_Mizoram', 'State_Nagaland',\n",
              "       'State_Odisha', 'State_Puducherry', 'State_Punjab', 'State_Sikkim',\n",
              "       'State_Tamil Nadu', 'State_Telangana', 'State_Tripura',\n",
              "       'State_Uttar Pradesh', 'State_Uttarakhand', 'State_West Bengal'],\n",
              "      dtype='object')"
            ]
          },
          "execution_count": 26,
          "metadata": {},
          "output_type": "execute_result"
        }
      ],
      "source": [
        "X_train.columns"
      ]
    },
    {
      "cell_type": "code",
      "execution_count": 27,
      "id": "2b8e2dcd",
      "metadata": {
        "colab": {
          "base_uri": "https://localhost:8080/"
        },
        "id": "2b8e2dcd",
        "outputId": "d5fca40a-8715-4688-bc7a-58860a03802b"
      },
      "outputs": [
        {
          "name": "stdout",
          "output_type": "stream",
          "text": [
            "<class 'pandas.core.frame.DataFrame'>\n",
            "RangeIndex: 15751 entries, 0 to 15750\n",
            "Data columns (total 42 columns):\n",
            " #   Column                   Non-Null Count  Dtype  \n",
            "---  ------                   --------------  -----  \n",
            " 0   Crop                     15751 non-null  float64\n",
            " 1   Area                     15751 non-null  float64\n",
            " 2   Production               15751 non-null  float64\n",
            " 3   Annual_Rainfall          15751 non-null  float64\n",
            " 4   Fertilizer               15751 non-null  float64\n",
            " 5   Pesticide                15751 non-null  float64\n",
            " 6   Season_Autumn            15751 non-null  float64\n",
            " 7   Season_Kharif            15751 non-null  float64\n",
            " 8   Season_Rabi              15751 non-null  float64\n",
            " 9   Season_Summer            15751 non-null  float64\n",
            " 10  Season_Whole Year        15751 non-null  float64\n",
            " 11  Season_Winter            15751 non-null  float64\n",
            " 12  State_Andhra Pradesh     15751 non-null  float64\n",
            " 13  State_Arunachal Pradesh  15751 non-null  float64\n",
            " 14  State_Assam              15751 non-null  float64\n",
            " 15  State_Bihar              15751 non-null  float64\n",
            " 16  State_Chhattisgarh       15751 non-null  float64\n",
            " 17  State_Delhi              15751 non-null  float64\n",
            " 18  State_Goa                15751 non-null  float64\n",
            " 19  State_Gujarat            15751 non-null  float64\n",
            " 20  State_Haryana            15751 non-null  float64\n",
            " 21  State_Himachal Pradesh   15751 non-null  float64\n",
            " 22  State_Jammu and Kashmir  15751 non-null  float64\n",
            " 23  State_Jharkhand          15751 non-null  float64\n",
            " 24  State_Karnataka          15751 non-null  float64\n",
            " 25  State_Kerala             15751 non-null  float64\n",
            " 26  State_Madhya Pradesh     15751 non-null  float64\n",
            " 27  State_Maharashtra        15751 non-null  float64\n",
            " 28  State_Manipur            15751 non-null  float64\n",
            " 29  State_Meghalaya          15751 non-null  float64\n",
            " 30  State_Mizoram            15751 non-null  float64\n",
            " 31  State_Nagaland           15751 non-null  float64\n",
            " 32  State_Odisha             15751 non-null  float64\n",
            " 33  State_Puducherry         15751 non-null  float64\n",
            " 34  State_Punjab             15751 non-null  float64\n",
            " 35  State_Sikkim             15751 non-null  float64\n",
            " 36  State_Tamil Nadu         15751 non-null  float64\n",
            " 37  State_Telangana          15751 non-null  float64\n",
            " 38  State_Tripura            15751 non-null  float64\n",
            " 39  State_Uttar Pradesh      15751 non-null  float64\n",
            " 40  State_Uttarakhand        15751 non-null  float64\n",
            " 41  State_West Bengal        15751 non-null  float64\n",
            "dtypes: float64(42)\n",
            "memory usage: 5.0 MB\n"
          ]
        }
      ],
      "source": [
        "X_train.info()"
      ]
    },
    {
      "cell_type": "code",
      "execution_count": 28,
      "id": "70309ba4",
      "metadata": {
        "id": "70309ba4"
      },
      "outputs": [],
      "source": [
        "from catboost import CatBoostRegressor\n",
        "from sklearn.metrics import r2_score, mean_absolute_error, mean_squared_error"
      ]
    },
    {
      "cell_type": "code",
      "execution_count": 29,
      "id": "db62352b",
      "metadata": {
        "id": "db62352b"
      },
      "outputs": [],
      "source": [
        "##Create a Function to Evaluate Model\n",
        "def evaluate_model(true, predicted):\n",
        "    mae = mean_absolute_error(true, predicted)\n",
        "    mse = mean_squared_error(true, predicted)\n",
        "    rmse = np.sqrt(mean_squared_error(true, predicted))\n",
        "    r2_square = r2_score(true, predicted)\n",
        "    return mae, rmse, r2_square"
      ]
    },
    {
      "cell_type": "code",
      "execution_count": 30,
      "id": "c3fd3c8f",
      "metadata": {
        "colab": {
          "base_uri": "https://localhost:8080/"
        },
        "id": "c3fd3c8f",
        "outputId": "62c87af4-5d26-41fe-f9ab-b11e4e655752"
      },
      "outputs": [
        {
          "name": "stdout",
          "output_type": "stream",
          "text": [
            "Model performance for Training set\n",
            "- Root Mean Squared Error: 0.1533\n",
            "- Mean Absolute Error: 0.1036\n",
            "- R2 Score: 0.9765\n",
            "----------------------------------\n",
            "Model performance for Test set\n",
            "- Root Mean Squared Error: 0.1564\n",
            "- Mean Absolute Error: 0.1085\n",
            "- R2 Score: 0.9749\n"
          ]
        }
      ],
      "source": [
        "model = CatBoostRegressor(task_type=\"GPU\", verbose=0)\n",
        "\n",
        "model.fit(X_train, y_train) # Train model\n",
        "\n",
        "# Make predictions\n",
        "y_train_pred = model.predict(X_train)\n",
        "y_test_pred = model.predict(X_test)\n",
        "\n",
        "# Evaluate Train and Test dataset\n",
        "model_train_mae , model_train_rmse, model_train_r2 = evaluate_model(y_train, y_train_pred)\n",
        "\n",
        "model_test_mae , model_test_rmse, model_test_r2 = evaluate_model(y_test, y_test_pred)\n",
        "\n",
        "print('Model performance for Training set')\n",
        "print(\"- Root Mean Squared Error: {:.4f}\".format(model_train_rmse))\n",
        "print(\"- Mean Absolute Error: {:.4f}\".format(model_train_mae))\n",
        "print(\"- R2 Score: {:.4f}\".format(model_train_r2))\n",
        "\n",
        "print('----------------------------------')\n",
        "\n",
        "print('Model performance for Test set')\n",
        "print(\"- Root Mean Squared Error: {:.4f}\".format(model_test_rmse))\n",
        "print(\"- Mean Absolute Error: {:.4f}\".format(model_test_mae))\n",
        "print(\"- R2 Score: {:.4f}\".format(model_test_r2))\n"
      ]
    },
    {
      "cell_type": "code",
      "execution_count": 32,
      "id": "41d1ec5a",
      "metadata": {
        "colab": {
          "base_uri": "https://localhost:8080/"
        },
        "id": "41d1ec5a",
        "outputId": "25561dfc-374d-40f1-bee8-69ee92ba94d7"
      },
      "outputs": [
        {
          "name": "stdout",
          "output_type": "stream",
          "text": [
            "Best parameters: {'depth': 8, 'iterations': 1500, 'learning_rate': 0.1}\n",
            "Best RMSE: 0.1639871835979553\n"
          ]
        }
      ],
      "source": [
        "from sklearn.model_selection import GridSearchCV\n",
        "\n",
        "# Define parameter grid\n",
        "param_grid = {\n",
        "    'depth': [4, 6, 8],\n",
        "    'learning_rate': [0.01, 0.05, 0.1],\n",
        "    'iterations': [1000, 1500, 500]\n",
        "}\n",
        "\n",
        "catboost_model = CatBoostRegressor(task_type='GPU', verbose=0)\n",
        "\n",
        "grid_search = GridSearchCV(catboost_model, param_grid, cv=3, scoring='neg_root_mean_squared_error', n_jobs=-1)\n",
        "grid_search.fit(X_train, y_train)\n",
        "\n",
        "print(\"Best parameters:\", grid_search.best_params_)\n",
        "print(\"Best RMSE:\", -grid_search.best_score_)\n",
        "\n",
        "# Use the best estimator for predictions\n",
        "best_model = grid_search.best_estimator_\n",
        "y_pred = best_model.predict(X_test)"
      ]
    },
    {
      "cell_type": "code",
      "execution_count": 31,
      "id": "dBUqYb0a6lYh",
      "metadata": {
        "colab": {
          "base_uri": "https://localhost:8080/"
        },
        "id": "dBUqYb0a6lYh",
        "outputId": "27b125ed-38df-463f-fad2-c50341b2f487"
      },
      "outputs": [
        {
          "name": "stdout",
          "output_type": "stream",
          "text": [
            "Model performance for Training set\n",
            "- Root Mean Squared Error: 0.1367\n",
            "- Mean Absolute Error: 0.0893\n",
            "- R2 Score: 0.9813\n",
            "----------------------------------\n",
            "Model performance for Test set\n",
            "- Root Mean Squared Error: 0.1465\n",
            "- Mean Absolute Error: 0.0988\n",
            "- R2 Score: 0.9780\n"
          ]
        }
      ],
      "source": [
        "#Assigning best parameters to the model\n",
        "model = CatBoostRegressor(task_type=\"GPU\",depth=8,iterations=1500,learning_rate=0.1, verbose=0)\n",
        "\n",
        "model.fit(X_train, y_train) # Train model\n",
        "\n",
        "# Make predictions\n",
        "y_train_pred = model.predict(X_train)\n",
        "y_test_pred = model.predict(X_test)\n",
        "\n",
        "# Evaluate Train and Test dataset\n",
        "model_train_mae , model_train_rmse, model_train_r2 = evaluate_model(y_train, y_train_pred)\n",
        "\n",
        "model_test_mae , model_test_rmse, model_test_r2 = evaluate_model(y_test, y_test_pred)\n",
        "\n",
        "print('Model performance for Training set')\n",
        "print(\"- Root Mean Squared Error: {:.4f}\".format(model_train_rmse))\n",
        "print(\"- Mean Absolute Error: {:.4f}\".format(model_train_mae))\n",
        "print(\"- R2 Score: {:.4f}\".format(model_train_r2))\n",
        "\n",
        "print('----------------------------------')\n",
        "\n",
        "print('Model performance for Test set')\n",
        "print(\"- Root Mean Squared Error: {:.4f}\".format(model_test_rmse))\n",
        "print(\"- Mean Absolute Error: {:.4f}\".format(model_test_mae))\n",
        "print(\"- R2 Score: {:.4f}\".format(model_test_r2))"
      ]
    },
    {
      "cell_type": "code",
      "execution_count": 35,
      "id": "978b04d0",
      "metadata": {
        "colab": {
          "base_uri": "https://localhost:8080/",
          "height": 89
        },
        "id": "978b04d0",
        "outputId": "dfbda94e-4a51-4aa5-eb2e-b582b89580f0"
      },
      "outputs": [
        {
          "data": {
            "text/html": [
              "<div>\n",
              "<style scoped>\n",
              "    .dataframe tbody tr th:only-of-type {\n",
              "        vertical-align: middle;\n",
              "    }\n",
              "\n",
              "    .dataframe tbody tr th {\n",
              "        vertical-align: top;\n",
              "    }\n",
              "\n",
              "    .dataframe thead th {\n",
              "        text-align: right;\n",
              "    }\n",
              "</style>\n",
              "<table border=\"1\" class=\"dataframe\">\n",
              "  <thead>\n",
              "    <tr style=\"text-align: right;\">\n",
              "      <th></th>\n",
              "      <th>Crop</th>\n",
              "      <th>Season</th>\n",
              "      <th>State</th>\n",
              "      <th>Area</th>\n",
              "      <th>Production</th>\n",
              "      <th>Annual_Rainfall</th>\n",
              "      <th>Fertilizer</th>\n",
              "      <th>Pesticide</th>\n",
              "    </tr>\n",
              "  </thead>\n",
              "  <tbody>\n",
              "    <tr>\n",
              "      <th>0</th>\n",
              "      <td>Dry chillies</td>\n",
              "      <td>Whole Year</td>\n",
              "      <td>Meghalaya</td>\n",
              "      <td>1766</td>\n",
              "      <td>1106</td>\n",
              "      <td>3818.2</td>\n",
              "      <td>168070.22</td>\n",
              "      <td>547.46</td>\n",
              "    </tr>\n",
              "  </tbody>\n",
              "</table>\n",
              "</div>"
            ],
            "text/plain": [
              "           Crop      Season      State  Area  Production  Annual_Rainfall  \\\n",
              "0  Dry chillies  Whole Year  Meghalaya  1766        1106           3818.2   \n",
              "\n",
              "   Fertilizer  Pesticide  \n",
              "0   168070.22     547.46  "
            ]
          },
          "execution_count": 35,
          "metadata": {},
          "output_type": "execute_result"
        }
      ],
      "source": [
        "# Predict a sample using CatBoost with full preprocessing\n",
        "sample_dict = {\n",
        "    \"Crop\": \"Dry chillies\",\n",
        "    \"Season\": \"Whole Year\",\n",
        "    \"State\": \"Meghalaya\",\n",
        "    \"Area\": 1766,\n",
        "    \"Production\": 1106,\n",
        "    \"Annual_Rainfall\": 3818.2,\n",
        "    \"Fertilizer\": 168070.22,\n",
        "    \"Pesticide\": 547.46,\n",
        "}\n",
        "\n",
        "# Convert to DataFrame\n",
        "sample_df = pd.DataFrame([sample_dict])\n",
        "sample_df\n",
        "\n"
      ]
    },
    {
      "cell_type": "code",
      "execution_count": 36,
      "id": "06dbc259",
      "metadata": {
        "colab": {
          "base_uri": "https://localhost:8080/"
        },
        "id": "06dbc259",
        "outputId": "264c82c8-10f3-4804-d47a-a6c01496d2f4"
      },
      "outputs": [
        {
          "name": "stdout",
          "output_type": "stream",
          "text": [
            "Predicted Yield for sample: [[0.68687887]]\n"
          ]
        }
      ],
      "source": [
        "# Target Encoding for 'Crop'\n",
        "sample_df['Crop'] = encoder.transform(sample_df['Crop'])\n",
        "\n",
        "# PowerTransform numerical columns\n",
        "sample_df[num_cols] = pt.transform(sample_df[num_cols])\n",
        "\n",
        "# OneHotEncoding for 'Season' and 'State'\n",
        "sample_ohe = ohe.transform(sample_df[['Season', 'State']])\n",
        "sample_ohe_df = pd.DataFrame(sample_ohe, columns=ohe.get_feature_names_out(['Season','State']))\n",
        "\n",
        "sample_df.reset_index(drop=True, inplace=True)\n",
        "sample_df = pd.concat([sample_df, sample_ohe_df], axis=1)\n",
        "sample_df.drop(columns=['Season','State'], inplace=True)\n",
        "\n",
        "# Predict using CatBoost\n",
        "sample_pred = model.predict(sample_df)\n",
        "sample_pred = pt_y.inverse_transform(sample_pred.reshape(-1, 1))\n",
        "print('Predicted Yield for sample:', sample_pred)"
      ]
    },
    {
      "cell_type": "code",
      "execution_count": 41,
      "id": "MmNlWwQ17sM0",
      "metadata": {
        "id": "MmNlWwQ17sM0"
      },
      "outputs": [],
      "source": []
    }
  ],
  "metadata": {
    "accelerator": "GPU",
    "colab": {
      "gpuType": "T4",
      "provenance": []
    },
    "kernelspec": {
      "display_name": "Python 3",
      "name": "python3"
    },
    "language_info": {
      "codemirror_mode": {
        "name": "ipython",
        "version": 3
      },
      "file_extension": ".py",
      "mimetype": "text/x-python",
      "name": "python",
      "nbconvert_exporter": "python",
      "pygments_lexer": "ipython3",
      "version": "3.13.5"
    }
  },
  "nbformat": 4,
  "nbformat_minor": 5
}
